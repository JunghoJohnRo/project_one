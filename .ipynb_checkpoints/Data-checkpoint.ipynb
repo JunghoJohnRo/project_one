{
 "cells": [
  {
   "cell_type": "code",
   "execution_count": 1,
   "metadata": {},
   "outputs": [],
   "source": [
    "# Dependencies\n",
    "import requests\n",
    "import json\n",
    "import pandas as pd\n",
    "\n",
    "from pprint import pprint\n",
    "from sodapy import Socrata\n",
    "from config import Iowa_Key\n",
    "from config import Census_Key"
   ]
  },
  {
   "cell_type": "code",
   "execution_count": 2,
   "metadata": {},
   "outputs": [],
   "source": [
    "client = Socrata(\"data.iowa.gov\", Iowa_Key)\n",
    "results = client.get(\"ykb6-ywnd\", limit=2000)\n",
    "\n",
    "# Convert to pandas DataFrame\n",
    "results_df = pd.DataFrame.from_records(results)\n",
    "#results_df.head()"
   ]
  },
  {
   "cell_type": "code",
   "execution_count": null,
   "metadata": {},
   "outputs": [],
   "source": [
    "new_df=results_df[[\"city\",\"store_address_address\",\"store_status\",\"store_address_zip\"]]\n",
    "new_df.columns = [\"City\",\"Address\",\"Status\",\"Zip Code\"]\n",
    "Active_Stores_df=new_df.loc[new_df[\"Status\"]==\"A\"].reset_index(drop=True)\n",
    "Active_Stores_df.head()"
   ]
  },
  {
   "cell_type": "code",
   "execution_count": 54,
   "metadata": {},
   "outputs": [
    {
     "data": {
      "text/html": [
       "<div>\n",
       "<style scoped>\n",
       "    .dataframe tbody tr th:only-of-type {\n",
       "        vertical-align: middle;\n",
       "    }\n",
       "\n",
       "    .dataframe tbody tr th {\n",
       "        vertical-align: top;\n",
       "    }\n",
       "\n",
       "    .dataframe thead th {\n",
       "        text-align: right;\n",
       "    }\n",
       "</style>\n",
       "<table border=\"1\" class=\"dataframe\">\n",
       "  <thead>\n",
       "    <tr style=\"text-align: right;\">\n",
       "      <th></th>\n",
       "      <th>Date</th>\n",
       "      <th>County</th>\n",
       "      <th>Sale (Dollars)</th>\n",
       "      <th>Volume Sold (Gallons)</th>\n",
       "    </tr>\n",
       "  </thead>\n",
       "  <tbody>\n",
       "    <tr>\n",
       "      <th>0</th>\n",
       "      <td>2019</td>\n",
       "      <td>Adair</td>\n",
       "      <td>52457.91</td>\n",
       "      <td>1026.55</td>\n",
       "    </tr>\n",
       "    <tr>\n",
       "      <th>1</th>\n",
       "      <td>2019</td>\n",
       "      <td>Adair</td>\n",
       "      <td>62661.65</td>\n",
       "      <td>1180.17</td>\n",
       "    </tr>\n",
       "    <tr>\n",
       "      <th>2</th>\n",
       "      <td>2019</td>\n",
       "      <td>Adams</td>\n",
       "      <td>5047.48</td>\n",
       "      <td>63.66</td>\n",
       "    </tr>\n",
       "    <tr>\n",
       "      <th>3</th>\n",
       "      <td>2019</td>\n",
       "      <td>Allamakee</td>\n",
       "      <td>192454.20</td>\n",
       "      <td>3878.30</td>\n",
       "    </tr>\n",
       "    <tr>\n",
       "      <th>4</th>\n",
       "      <td>2019</td>\n",
       "      <td>Appanoose</td>\n",
       "      <td>284708.52</td>\n",
       "      <td>4817.37</td>\n",
       "    </tr>\n",
       "  </tbody>\n",
       "</table>\n",
       "</div>"
      ],
      "text/plain": [
       "   Date     County  Sale (Dollars)  Volume Sold (Gallons)\n",
       "0  2019      Adair        52457.91                1026.55\n",
       "1  2019      Adair        62661.65                1180.17\n",
       "2  2019      Adams         5047.48                  63.66\n",
       "3  2019  Allamakee       192454.20                3878.30\n",
       "4  2019  Appanoose       284708.52                4817.37"
      ]
     },
     "execution_count": 54,
     "metadata": {},
     "output_type": "execute_result"
    }
   ],
   "source": [
    "file_to_load = \"Sales.csv\"\n",
    "purchase_data = pd.read_csv(file_to_load)\n",
    "purchase_data[\"County\"]=purchase_data[\"County\"].str.title()\n",
    "\n",
    "purchase_data[\"Sale (Dollars)\"] = purchase_data[\"Sale (Dollars)\"].str.replace(',', '')\n",
    "purchase_data[\"Volume Sold (Gallons)\"] = purchase_data[\"Volume Sold (Gallons)\"].str.replace(',', '')\n",
    "purchase_data[\"Sale (Dollars)\"] = pd.to_numeric(purchase_data[\"Sale (Dollars)\"])\n",
    "purchase_data[\"Volume Sold (Gallons)\"] = pd.to_numeric(purchase_data[\"Volume Sold (Gallons)\"])\n",
    "\n",
    "seveteen_df_initial=purchase_data.loc[purchase_data[\"Date\"]==2017]\n",
    "sixteen_df_initial=purchase_data.loc[purchase_data[\"Date\"]==2016]\n",
    "fifteen_df_initial=purchase_data.loc[purchase_data[\"Date\"]==2015]\n",
    "fourteen_df_initial=purchase_data.loc[purchase_data[\"Date\"]==2014]\n",
    "thirteen_df_initial=purchase_data.loc[purchase_data[\"Date\"]==2013]\n",
    "twelve_df_initial=purchase_data.loc[purchase_data[\"Date\"]==2012]\n",
    "\n",
    "nineteen_df.head()"
   ]
  },
  {
   "cell_type": "code",
   "execution_count": 65,
   "metadata": {},
   "outputs": [],
   "source": [
    "\n",
    "seventeen_df=seveteen_df_initial.groupby(\"County\").agg({\"Date\":\"first\",\n",
    "                                           \"Sale (Dollars)\":\"sum\",\n",
    "                                           \"Volume Sold (Gallons)\":\"sum\"\n",
    "                                          }).reset_index()\n",
    "sixteen_df=sixteen_df_initial.groupby(\"County\").agg({\"Date\":\"first\",\n",
    "                                           \"Sale (Dollars)\":\"sum\",\n",
    "                                           \"Volume Sold (Gallons)\":\"sum\"\n",
    "                                          }).reset_index()\n",
    "fifteen_df=fifteen_df_initial.groupby(\"County\").agg({\"Date\":\"first\",\n",
    "                                           \"Sale (Dollars)\":\"sum\",\n",
    "                                           \"Volume Sold (Gallons)\":\"sum\"\n",
    "                                          }).reset_index()\n",
    "fourteen_df=fourteen_df_initial.groupby(\"County\").agg({\"Date\":\"first\",\n",
    "                                           \"Sale (Dollars)\":\"sum\",\n",
    "                                           \"Volume Sold (Gallons)\":\"sum\"\n",
    "                                          }).reset_index()\n",
    "thirteen_df=thirteen_df_initial.groupby(\"County\").agg({\"Date\":\"first\",\n",
    "                                           \"Sale (Dollars)\":\"sum\",\n",
    "                                           \"Volume Sold (Gallons)\":\"sum\"\n",
    "                                          }).reset_index()\n",
    "twelve_df=twelve_df_initial.groupby(\"County\").agg({\"Date\":\"first\",\n",
    "                                           \"Sale (Dollars)\":\"sum\",\n",
    "                                           \"Volume Sold (Gallons)\":\"sum\"\n",
    "                                          }).reset_index()\n",
    "seventeen_df.to_csv(\"CSV_Files/2017_sales.csv\")\n",
    "sixteen_df.to_csv(\"CSV_Files/2016_sales.csv\")\n",
    "fifteen_df.to_csv(\"CSV_Files/2015_sales.csv\")\n",
    "fourteen_df.to_csv(\"CSV_Files/2014_sales.csv\")\n",
    "thirteen_df.to_csv(\"CSV_Files/2013_sales.csv\")\n",
    "twelve_df.to_csv(\"CSV_Files/2012_sales.csv\")"
   ]
  },
  {
   "cell_type": "code",
   "execution_count": null,
   "metadata": {},
   "outputs": [],
   "source": []
  }
 ],
 "metadata": {
  "kernelspec": {
   "display_name": "Python 3",
   "language": "python",
   "name": "python3"
  },
  "language_info": {
   "codemirror_mode": {
    "name": "ipython",
    "version": 3
   },
   "file_extension": ".py",
   "mimetype": "text/x-python",
   "name": "python",
   "nbconvert_exporter": "python",
   "pygments_lexer": "ipython3",
   "version": "3.6.7"
  }
 },
 "nbformat": 4,
 "nbformat_minor": 2
}
