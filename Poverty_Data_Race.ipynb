{
 "cells": [
  {
   "cell_type": "code",
   "execution_count": 28,
   "metadata": {},
   "outputs": [],
   "source": [
    "# Dependencies\n",
    "import numpy as np\n",
    "import pandas as pd\n",
    "import matplotlib.pyplot as plt\n",
    "import requests\n",
    "from census import Census\n",
    "import gmaps\n",
    "\n",
    "# Census API Keys\n",
    "from config import (api_key)\n",
    "c = Census(api_key, year=2017)"
   ]
  },
  {
   "cell_type": "markdown",
   "metadata": {},
   "source": [
    "### The poverty numbers in the dataframe is \"Number of persons whose income in the past 12 months is below the poverty level\""
   ]
  },
  {
   "cell_type": "code",
   "execution_count": 29,
   "metadata": {},
   "outputs": [],
   "source": [
    "#\"B25077_001E\": \"Median Home Value\"\n",
    "\n",
    "census_data = c.acs5.get((\"NAME\",\n",
    "                          \"B01003_001E\",\n",
    "                          \"B17001_002E\", \n",
    "                          \"B17001A_002E\", \"B17001B_002E\", \n",
    "                          \"B17001D_002E\", \"B17001I_002E\"), \n",
    "                         {'for': 'county:*','in':'state:19'})\n",
    "\n",
    "# Convert to DataFrame\n",
    "census_pd = pd.DataFrame(census_data)\n",
    "\n",
    "# Column Reordering\n",
    "census_pd = census_pd.rename(columns={\"B01003_001E\": \"Population\",\n",
    "                                      \"B17001_002E\": \"Poverty Count\",\n",
    "                                      \"B17001A_002E\": \"Poverty White\",\n",
    "                                      \"B17001B_002E\": \"Poverty Black\", \n",
    "                                      \"B17001D_002E\": \"Poverty Asian\", \n",
    "                                      \"B17001I_002E\": \"Poverty Hispanic\",\n",
    "                                      \"NAME\": \"Name\"})\n",
    "\n",
    "# Add in Poverty Rate (Poverty Count / Population)\n",
    "census_pd[\"Total Poverty Rate (%)\"] = 100 * census_pd[\"Poverty Count\"].astype(int) \\\n",
    "                                        / census_pd[\"Population\"].astype(int)\n",
    "census_pd[\"White Poverty Rate (%)\"] = 100 * census_pd[\"Poverty White\"].astype(int) \\\n",
    "                                        / census_pd[\"Population\"].astype(int)\n",
    "census_pd[\"Black Poverty Rate (%)\"] = 100 * census_pd[\"Poverty Black\"].astype(int) \\\n",
    "                                        / census_pd[\"Population\"].astype(int)\n",
    "census_pd[\"Asian Poverty Rate (%)\"] = 100 * census_pd[\"Poverty Asian\"].astype(int) \\\n",
    "                                        / census_pd[\"Population\"].astype(int)\n",
    "census_pd[\"Hispanic Poverty Rate (%)\"] = 100 * census_pd[\"Poverty Hispanic\"].astype(int) \\\n",
    "                                        / census_pd[\"Population\"].astype(int)\n",
    "\n",
    "\n",
    "# Final DataFrame\n",
    "census_pd = census_pd[[\"Name\", \"Total Poverty Rate (%)\", \"White Poverty Rate (%)\", \n",
    "                       \"Black Poverty Rate (%)\", \"Asian Poverty Rate (%)\", \n",
    "                       \"Hispanic Poverty Rate (%)\" ]]\n",
    "\n",
    "\n",
    "\n",
    "split = census_pd[\"Name\"].str.split(\",\", n = 1, expand = True)\n",
    "census_pd[\"County\"]= split[0]\n",
    "census_pd[\"State\"]=split[1]\n",
    "census_pd = census_pd[[\"State\", \"County\", \n",
    "                       \"Total Poverty Rate (%)\", \"White Poverty Rate (%)\", \n",
    "                       \"Black Poverty Rate (%)\", \"Asian Poverty Rate (%)\", \n",
    "                       \"Hispanic Poverty Rate (%)\"]]\n",
    "\n",
    "census_pd = census_pd.set_index(\"State\")\n",
    "census_pd.mean()\n",
    "census_pd.to_csv(\"2017_Race_Data\")"
   ]
  },
  {
   "cell_type": "code",
   "execution_count": null,
   "metadata": {},
   "outputs": [],
   "source": []
  },
  {
   "cell_type": "code",
   "execution_count": null,
   "metadata": {},
   "outputs": [],
   "source": []
  },
  {
   "cell_type": "code",
   "execution_count": null,
   "metadata": {},
   "outputs": [],
   "source": []
  }
 ],
 "metadata": {
  "kernelspec": {
   "display_name": "Python 3",
   "language": "python",
   "name": "python3"
  },
  "language_info": {
   "codemirror_mode": {
    "name": "ipython",
    "version": 3
   },
   "file_extension": ".py",
   "mimetype": "text/x-python",
   "name": "python",
   "nbconvert_exporter": "python",
   "pygments_lexer": "ipython3",
   "version": "3.6.7"
  }
 },
 "nbformat": 4,
 "nbformat_minor": 2
}
