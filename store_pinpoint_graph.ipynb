{
 "cells": [
  {
   "cell_type": "code",
   "execution_count": 1,
   "metadata": {},
   "outputs": [],
   "source": [
    "# Dependencies\n",
    "import pandas as pd\n",
    "import matplotlib.pyplot as plt\n",
    "import gmaps\n",
    "\n",
    "\n",
    "# API Keys\n",
    "from config import gkey\n",
    "\n"
   ]
  },
  {
   "cell_type": "code",
   "execution_count": 5,
   "metadata": {},
   "outputs": [
    {
     "data": {
      "text/html": [
       "<div>\n",
       "<style scoped>\n",
       "    .dataframe tbody tr th:only-of-type {\n",
       "        vertical-align: middle;\n",
       "    }\n",
       "\n",
       "    .dataframe tbody tr th {\n",
       "        vertical-align: top;\n",
       "    }\n",
       "\n",
       "    .dataframe thead th {\n",
       "        text-align: right;\n",
       "    }\n",
       "</style>\n",
       "<table border=\"1\" class=\"dataframe\">\n",
       "  <thead>\n",
       "    <tr style=\"text-align: right;\">\n",
       "      <th></th>\n",
       "      <th>Unnamed: 0</th>\n",
       "      <th>Address</th>\n",
       "      <th>City</th>\n",
       "      <th>Status</th>\n",
       "      <th>State</th>\n",
       "      <th>Zip Code</th>\n",
       "      <th>lat</th>\n",
       "      <th>lng</th>\n",
       "    </tr>\n",
       "  </thead>\n",
       "  <tbody>\n",
       "    <tr>\n",
       "      <th>0</th>\n",
       "      <td>0</td>\n",
       "      <td>200 State Po Box 98</td>\n",
       "      <td>Guthrie Center</td>\n",
       "      <td>A</td>\n",
       "      <td>IA</td>\n",
       "      <td>50115.0</td>\n",
       "      <td>41.678576</td>\n",
       "      <td>-94.501829</td>\n",
       "    </tr>\n",
       "    <tr>\n",
       "      <th>1</th>\n",
       "      <td>1</td>\n",
       "      <td>1111 8TH ST</td>\n",
       "      <td>Boone</td>\n",
       "      <td>A</td>\n",
       "      <td>IA</td>\n",
       "      <td>50036.0</td>\n",
       "      <td>42.064750</td>\n",
       "      <td>-93.876110</td>\n",
       "    </tr>\n",
       "    <tr>\n",
       "      <th>2</th>\n",
       "      <td>2</td>\n",
       "      <td>3140 Agency</td>\n",
       "      <td>Burlington</td>\n",
       "      <td>A</td>\n",
       "      <td>IA</td>\n",
       "      <td>52601.0</td>\n",
       "      <td>40.816170</td>\n",
       "      <td>-91.136651</td>\n",
       "    </tr>\n",
       "    <tr>\n",
       "      <th>3</th>\n",
       "      <td>3</td>\n",
       "      <td>939 Angular</td>\n",
       "      <td>Burlington</td>\n",
       "      <td>A</td>\n",
       "      <td>IA</td>\n",
       "      <td>52601.0</td>\n",
       "      <td>40.801319</td>\n",
       "      <td>-91.110647</td>\n",
       "    </tr>\n",
       "    <tr>\n",
       "      <th>4</th>\n",
       "      <td>4</td>\n",
       "      <td>1843 Johnson Avenue, N.W.</td>\n",
       "      <td>Cedar Rapids</td>\n",
       "      <td>A</td>\n",
       "      <td>IA</td>\n",
       "      <td>52405.0</td>\n",
       "      <td>41.973912</td>\n",
       "      <td>-91.698396</td>\n",
       "    </tr>\n",
       "  </tbody>\n",
       "</table>\n",
       "</div>"
      ],
      "text/plain": [
       "   Unnamed: 0                    Address            City Status State  \\\n",
       "0           0        200 State Po Box 98  Guthrie Center      A    IA   \n",
       "1           1                1111 8TH ST           Boone      A    IA   \n",
       "2           2                3140 Agency      Burlington      A    IA   \n",
       "3           3                939 Angular      Burlington      A    IA   \n",
       "4           4  1843 Johnson Avenue, N.W.    Cedar Rapids      A    IA   \n",
       "\n",
       "   Zip Code        lat        lng  \n",
       "0   50115.0  41.678576 -94.501829  \n",
       "1   50036.0  42.064750 -93.876110  \n",
       "2   52601.0  40.816170 -91.136651  \n",
       "3   52601.0  40.801319 -91.110647  \n",
       "4   52405.0  41.973912 -91.698396  "
      ]
     },
     "execution_count": 5,
     "metadata": {},
     "output_type": "execute_result"
    }
   ],
   "source": [
    "active_stores_df = pd.read_csv(\"liquor_store_ia.csv\")\n",
    "active_stores_df.head()"
   ]
  },
  {
   "cell_type": "code",
   "execution_count": 6,
   "metadata": {},
   "outputs": [
    {
     "data": {
      "application/vnd.jupyter.widget-view+json": {
       "model_id": "6e68fc287a394f2fb26b58c96c3d3e39",
       "version_major": 2,
       "version_minor": 0
      },
      "text/plain": [
       "Figure(layout=FigureLayout(height='420px'))"
      ]
     },
     "metadata": {},
     "output_type": "display_data"
    }
   ],
   "source": [
    "locations = active_stores_df[[\"lat\", \"lng\"]].astype(float)\n",
    "# Create sotre symbol layer\n",
    "store_layer = gmaps.symbol_layer(\n",
    "    locations, fill_color='rgba(0, 150, 0, 0.4)',\n",
    "    stroke_color='rgba(0, 0, 150, 0.4)', scale=2,)\n",
    "    #info_box_content=[f\"Bank amount: {bank}\" for bank in bank_rate]\n",
    "\n",
    "fig = gmaps.figure()\n",
    "fig.add_layer(store_layer)\n",
    "\n",
    "fig"
   ]
  }
 ],
 "metadata": {
  "kernelspec": {
   "display_name": "Python 3",
   "language": "python",
   "name": "python3"
  },
  "language_info": {
   "codemirror_mode": {
    "name": "ipython",
    "version": 3
   },
   "file_extension": ".py",
   "mimetype": "text/x-python",
   "name": "python",
   "nbconvert_exporter": "python",
   "pygments_lexer": "ipython3",
   "version": "3.6.7"
  }
 },
 "nbformat": 4,
 "nbformat_minor": 2
}
