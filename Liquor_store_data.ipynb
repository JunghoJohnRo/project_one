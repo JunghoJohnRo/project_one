{
 "cells": [
  {
   "cell_type": "code",
   "execution_count": 1,
   "metadata": {},
   "outputs": [],
   "source": [
    "# Dependencies\n",
    "import requests\n",
    "import json\n",
    "import pandas as pd\n",
    "import matplotlib.pyplot as plt\n",
    "import requests\n",
    "from pprint import pprint\n",
    "from sodapy import Socrata\n",
    "\n",
    "\n"
   ]
  },
  {
   "cell_type": "code",
   "execution_count": 2,
   "metadata": {},
   "outputs": [
    {
     "name": "stderr",
     "output_type": "stream",
     "text": [
      "WARNING:root:Requests made without an app_token will be subject to strict throttling limits.\n"
     ]
    }
   ],
   "source": [
    "client = Socrata(\"data.iowa.gov\", None)\n",
    "results = client.get(\"ykb6-ywnd\", limit=2000)\n",
    "\n",
    "# Convert to pandas DataFrame\n",
    "results_df = pd.DataFrame.from_records(results)\n",
    "#results_df.head()"
   ]
  },
  {
   "cell_type": "code",
   "execution_count": 3,
   "metadata": {},
   "outputs": [
    {
     "data": {
      "text/html": [
       "<div>\n",
       "<style scoped>\n",
       "    .dataframe tbody tr th:only-of-type {\n",
       "        vertical-align: middle;\n",
       "    }\n",
       "\n",
       "    .dataframe tbody tr th {\n",
       "        vertical-align: top;\n",
       "    }\n",
       "\n",
       "    .dataframe thead th {\n",
       "        text-align: right;\n",
       "    }\n",
       "</style>\n",
       "<table border=\"1\" class=\"dataframe\">\n",
       "  <thead>\n",
       "    <tr style=\"text-align: right;\">\n",
       "      <th></th>\n",
       "      <th>Address</th>\n",
       "      <th>City</th>\n",
       "      <th>Status</th>\n",
       "      <th>State</th>\n",
       "      <th>Zip Code</th>\n",
       "    </tr>\n",
       "  </thead>\n",
       "  <tbody>\n",
       "    <tr>\n",
       "      <th>0</th>\n",
       "      <td>200 State Po Box 98</td>\n",
       "      <td>Guthrie Center</td>\n",
       "      <td>A</td>\n",
       "      <td>IA</td>\n",
       "      <td>50115</td>\n",
       "    </tr>\n",
       "    <tr>\n",
       "      <th>1</th>\n",
       "      <td>1111 8TH ST</td>\n",
       "      <td>Boone</td>\n",
       "      <td>A</td>\n",
       "      <td>IA</td>\n",
       "      <td>50036</td>\n",
       "    </tr>\n",
       "    <tr>\n",
       "      <th>2</th>\n",
       "      <td>3140 Agency</td>\n",
       "      <td>Burlington</td>\n",
       "      <td>A</td>\n",
       "      <td>IA</td>\n",
       "      <td>52601</td>\n",
       "    </tr>\n",
       "    <tr>\n",
       "      <th>3</th>\n",
       "      <td>939 Angular</td>\n",
       "      <td>Burlington</td>\n",
       "      <td>A</td>\n",
       "      <td>IA</td>\n",
       "      <td>52601</td>\n",
       "    </tr>\n",
       "    <tr>\n",
       "      <th>4</th>\n",
       "      <td>1843 Johnson Avenue, N.W.</td>\n",
       "      <td>Cedar Rapids</td>\n",
       "      <td>A</td>\n",
       "      <td>IA</td>\n",
       "      <td>52405</td>\n",
       "    </tr>\n",
       "  </tbody>\n",
       "</table>\n",
       "</div>"
      ],
      "text/plain": [
       "                     Address            City Status State Zip Code\n",
       "0        200 State Po Box 98  Guthrie Center      A    IA    50115\n",
       "1                1111 8TH ST           Boone      A    IA    50036\n",
       "2                3140 Agency      Burlington      A    IA    52601\n",
       "3                939 Angular      Burlington      A    IA    52601\n",
       "4  1843 Johnson Avenue, N.W.    Cedar Rapids      A    IA    52405"
      ]
     },
     "execution_count": 3,
     "metadata": {},
     "output_type": "execute_result"
    }
   ],
   "source": [
    "new_df=results_df[[\"store_address_address\", \"city\",\"store_status\",\"state\", \"store_address_zip\"]]\n",
    "new_df.columns = [\"Address\", \"City\", \"Status\",\"State\", \"Zip Code\"]\n",
    "active_stores_df=new_df.loc[new_df[\"Status\"]==\"A\"].reset_index(drop=True)\n",
    "active_stores_df.head()"
   ]
  },
  {
   "cell_type": "code",
   "execution_count": 4,
   "metadata": {},
   "outputs": [
    {
     "data": {
      "text/html": [
       "<div>\n",
       "<style scoped>\n",
       "    .dataframe tbody tr th:only-of-type {\n",
       "        vertical-align: middle;\n",
       "    }\n",
       "\n",
       "    .dataframe tbody tr th {\n",
       "        vertical-align: top;\n",
       "    }\n",
       "\n",
       "    .dataframe thead th {\n",
       "        text-align: right;\n",
       "    }\n",
       "</style>\n",
       "<table border=\"1\" class=\"dataframe\">\n",
       "  <thead>\n",
       "    <tr style=\"text-align: right;\">\n",
       "      <th></th>\n",
       "      <th>Address</th>\n",
       "      <th>City</th>\n",
       "      <th>Status</th>\n",
       "      <th>State</th>\n",
       "      <th>Zip Code</th>\n",
       "      <th>lat</th>\n",
       "      <th>lng</th>\n",
       "    </tr>\n",
       "  </thead>\n",
       "  <tbody>\n",
       "    <tr>\n",
       "      <th>0</th>\n",
       "      <td>200 State Po Box 98</td>\n",
       "      <td>Guthrie Center</td>\n",
       "      <td>A</td>\n",
       "      <td>IA</td>\n",
       "      <td>50115</td>\n",
       "      <td>41.6774</td>\n",
       "      <td>-94.5026</td>\n",
       "    </tr>\n",
       "    <tr>\n",
       "      <th>1</th>\n",
       "      <td>1111 8TH ST</td>\n",
       "      <td>Boone</td>\n",
       "      <td>A</td>\n",
       "      <td>IA</td>\n",
       "      <td>50036</td>\n",
       "      <td>42.0647</td>\n",
       "      <td>-93.8761</td>\n",
       "    </tr>\n",
       "    <tr>\n",
       "      <th>2</th>\n",
       "      <td>3140 Agency</td>\n",
       "      <td>Burlington</td>\n",
       "      <td>A</td>\n",
       "      <td>IA</td>\n",
       "      <td>52601</td>\n",
       "      <td>40.8162</td>\n",
       "      <td>-91.1367</td>\n",
       "    </tr>\n",
       "    <tr>\n",
       "      <th>3</th>\n",
       "      <td>939 Angular</td>\n",
       "      <td>Burlington</td>\n",
       "      <td>A</td>\n",
       "      <td>IA</td>\n",
       "      <td>52601</td>\n",
       "      <td>40.8013</td>\n",
       "      <td>-91.1106</td>\n",
       "    </tr>\n",
       "    <tr>\n",
       "      <th>4</th>\n",
       "      <td>1843 Johnson Avenue, N.W.</td>\n",
       "      <td>Cedar Rapids</td>\n",
       "      <td>A</td>\n",
       "      <td>IA</td>\n",
       "      <td>52405</td>\n",
       "      <td>41.9739</td>\n",
       "      <td>-91.6984</td>\n",
       "    </tr>\n",
       "  </tbody>\n",
       "</table>\n",
       "</div>"
      ],
      "text/plain": [
       "                     Address            City Status State Zip Code      lat  \\\n",
       "0        200 State Po Box 98  Guthrie Center      A    IA    50115  41.6774   \n",
       "1                1111 8TH ST           Boone      A    IA    50036  42.0647   \n",
       "2                3140 Agency      Burlington      A    IA    52601  40.8162   \n",
       "3                939 Angular      Burlington      A    IA    52601  40.8013   \n",
       "4  1843 Johnson Avenue, N.W.    Cedar Rapids      A    IA    52405  41.9739   \n",
       "\n",
       "       lng  \n",
       "0 -94.5026  \n",
       "1 -93.8761  \n",
       "2 -91.1367  \n",
       "3 -91.1106  \n",
       "4 -91.6984  "
      ]
     },
     "execution_count": 4,
     "metadata": {},
     "output_type": "execute_result"
    }
   ],
   "source": [
    "active_stores_df['lat'] = \"\"\n",
    "active_stores_df['lng'] = \"\"\n",
    "\n",
    "params = {\"key\":gkey}\n",
    "for index, row in active_stores_df.iterrows():\n",
    "    base_url = \"https://maps.googleapis.com/maps/api/geocode/json\"\n",
    "    street_type = row['Address']\n",
    "    city_type = row['City']\n",
    "    state_type = row['State']\n",
    "    params['address'] = f\"{street_type}{city_type},{state_type}\"\n",
    "    store_lat_lng = requests.get(base_url, params=params).json()\n",
    "    active_stores_df.loc[index, \"lat\"] = store_lat_lng[\"results\"][0][\"geometry\"][\"location\"][\"lat\"]\n",
    "    active_stores_df.loc[index, \"lng\"] = store_lat_lng[\"results\"][0][\"geometry\"][\"location\"][\"lng\"]\n",
    "active_stores_df.head()"
   ]
  },
  {
   "cell_type": "code",
   "execution_count": 5,
   "metadata": {},
   "outputs": [],
   "source": [
    "active_stores_df.to_csv('liquor_store_ia.csv')"
   ]
  },
  {
   "cell_type": "code",
   "execution_count": 6,
   "metadata": {
    "scrolled": true
   },
   "outputs": [
    {
     "data": {
      "application/vnd.jupyter.widget-view+json": {
       "model_id": "bb5ff5876bee44aa9587da24304f28b1",
       "version_major": 2,
       "version_minor": 0
      },
      "text/plain": [
       "Figure(layout=FigureLayout(height='420px'))"
      ]
     },
     "metadata": {},
     "output_type": "display_data"
    }
   ],
   "source": []
  },
  {
   "cell_type": "code",
   "execution_count": null,
   "metadata": {},
   "outputs": [],
   "source": []
  }
 ],
 "metadata": {
  "kernelspec": {
   "display_name": "Python 3",
   "language": "python",
   "name": "python3"
  },
  "language_info": {
   "codemirror_mode": {
    "name": "ipython",
    "version": 3
   },
   "file_extension": ".py",
   "mimetype": "text/x-python",
   "name": "python",
   "nbconvert_exporter": "python",
   "pygments_lexer": "ipython3",
   "version": "3.6.7"
  }
 },
 "nbformat": 4,
 "nbformat_minor": 2
}
