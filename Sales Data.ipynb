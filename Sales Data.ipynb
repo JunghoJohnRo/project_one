{
 "cells": [
  {
   "cell_type": "code",
   "execution_count": 5,
   "metadata": {},
   "outputs": [],
   "source": [
    "# Dependencies\n",
    "import pandas as pd\n",
    "\n",
    "from sodapy import Socrata\n",
    "from config import Iowa_Key\n",
    "from config import Census_Key"
   ]
  },
  {
   "cell_type": "code",
   "execution_count": 8,
   "metadata": {},
   "outputs": [],
   "source": [
    "file_to_load = \"Sales.csv\"\n",
    "purchase_data = pd.read_csv(file_to_load)\n",
    "purchase_data[\"County\"]=purchase_data[\"County\"].str.title()\n",
    "\n",
    "purchase_data[\"Sale (Dollars)\"] = purchase_data[\"Sale (Dollars)\"].str.replace(',', '')\n",
    "purchase_data[\"Volume Sold (Gallons)\"] = purchase_data[\"Volume Sold (Gallons)\"].str.replace(',', '')\n",
    "purchase_data[\"Sale (Dollars)\"] = pd.to_numeric(purchase_data[\"Sale (Dollars)\"])\n",
    "purchase_data[\"Volume Sold (Gallons)\"] = pd.to_numeric(purchase_data[\"Volume Sold (Gallons)\"])\n",
    "\n",
    "seveteen_df_initial=purchase_data.loc[purchase_data[\"Date\"]==2017]\n",
    "sixteen_df_initial=purchase_data.loc[purchase_data[\"Date\"]==2016]\n",
    "fifteen_df_initial=purchase_data.loc[purchase_data[\"Date\"]==2015]\n",
    "fourteen_df_initial=purchase_data.loc[purchase_data[\"Date\"]==2014]\n",
    "thirteen_df_initial=purchase_data.loc[purchase_data[\"Date\"]==2013]\n",
    "twelve_df_initial=purchase_data.loc[purchase_data[\"Date\"]==2012]\n",
    "\n"
   ]
  },
  {
   "cell_type": "code",
   "execution_count": 9,
   "metadata": {},
   "outputs": [],
   "source": [
    "\n",
    "seventeen_df=seveteen_df_initial.groupby(\"County\").agg({\"Date\":\"first\",\n",
    "                                           \"Sale (Dollars)\":\"sum\",\n",
    "                                           \"Volume Sold (Gallons)\":\"sum\"\n",
    "                                          }).reset_index()\n",
    "sixteen_df=sixteen_df_initial.groupby(\"County\").agg({\"Date\":\"first\",\n",
    "                                           \"Sale (Dollars)\":\"sum\",\n",
    "                                           \"Volume Sold (Gallons)\":\"sum\"\n",
    "                                          }).reset_index()\n",
    "fifteen_df=fifteen_df_initial.groupby(\"County\").agg({\"Date\":\"first\",\n",
    "                                           \"Sale (Dollars)\":\"sum\",\n",
    "                                           \"Volume Sold (Gallons)\":\"sum\"\n",
    "                                          }).reset_index()\n",
    "fourteen_df=fourteen_df_initial.groupby(\"County\").agg({\"Date\":\"first\",\n",
    "                                           \"Sale (Dollars)\":\"sum\",\n",
    "                                           \"Volume Sold (Gallons)\":\"sum\"\n",
    "                                          }).reset_index()\n",
    "thirteen_df=thirteen_df_initial.groupby(\"County\").agg({\"Date\":\"first\",\n",
    "                                           \"Sale (Dollars)\":\"sum\",\n",
    "                                           \"Volume Sold (Gallons)\":\"sum\"\n",
    "                                          }).reset_index()\n",
    "twelve_df=twelve_df_initial.groupby(\"County\").agg({\"Date\":\"first\",\n",
    "                                           \"Sale (Dollars)\":\"sum\",\n",
    "                                           \"Volume Sold (Gallons)\":\"sum\"\n",
    "                                          }).reset_index()\n",
    "seventeen_df.to_csv(\"CSV_Files/2017_sales.csv\")\n",
    "sixteen_df.to_csv(\"CSV_Files/2016_sales.csv\")\n",
    "fifteen_df.to_csv(\"CSV_Files/2015_sales.csv\")\n",
    "fourteen_df.to_csv(\"CSV_Files/2014_sales.csv\")\n",
    "thirteen_df.to_csv(\"CSV_Files/2013_sales.csv\")\n",
    "twelve_df.to_csv(\"CSV_Files/2012_sales.csv\")"
   ]
  },
  {
   "cell_type": "code",
   "execution_count": null,
   "metadata": {},
   "outputs": [],
   "source": []
  }
 ],
 "metadata": {
  "kernelspec": {
   "display_name": "Python 3",
   "language": "python",
   "name": "python3"
  },
  "language_info": {
   "codemirror_mode": {
    "name": "ipython",
    "version": 3
   },
   "file_extension": ".py",
   "mimetype": "text/x-python",
   "name": "python",
   "nbconvert_exporter": "python",
   "pygments_lexer": "ipython3",
   "version": "3.6.7"
  }
 },
 "nbformat": 4,
 "nbformat_minor": 2
}
