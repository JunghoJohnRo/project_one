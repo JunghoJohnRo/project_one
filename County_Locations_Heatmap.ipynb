{
 "cells": [
  {
   "cell_type": "code",
   "execution_count": 1,
   "metadata": {},
   "outputs": [],
   "source": [
    "# Dependencies\n",
    "import pandas as pd\n",
    "import numpy as np\n",
    "import requests\n",
    "import json\n",
    "import gmaps\n",
    "\n",
    "# Import API key\n",
    "from config import gkey"
   ]
  },
  {
   "cell_type": "code",
   "execution_count": 2,
   "metadata": {},
   "outputs": [],
   "source": [
    "counties_df = pd.read_csv(\"2017_Poverty_Data\")\n"
   ]
  },
  {
   "cell_type": "code",
   "execution_count": 3,
   "metadata": {},
   "outputs": [],
   "source": [
    "counties_df['lat'] = \"\"\n",
    "counties_df['lng'] = \"\"\n"
   ]
  },
  {
   "cell_type": "code",
   "execution_count": 4,
   "metadata": {},
   "outputs": [],
   "source": [
    "params = {\"key\":gkey}\n",
    "for index, row in counties_df.iterrows():\n",
    "    base_url = \"https://maps.googleapis.com/maps/api/geocode/json\"\n",
    "    county_type = row['County']\n",
    "    state_type = row['State']\n",
    "    params['address'] = f\"{county_type},{state_type}\"\n",
    "    county_lat_lng = requests.get(base_url, params=params).json()\n",
    "    counties_df.loc[index, \"lat\"] = county_lat_lng[\"results\"][0][\"geometry\"][\"location\"][\"lat\"]\n",
    "    counties_df.loc[index, \"lng\"] = county_lat_lng[\"results\"][0][\"geometry\"][\"location\"][\"lng\"]"
   ]
  },
  {
   "cell_type": "code",
   "execution_count": 5,
   "metadata": {},
   "outputs": [
    {
     "data": {
      "text/html": [
       "<div>\n",
       "<style scoped>\n",
       "    .dataframe tbody tr th:only-of-type {\n",
       "        vertical-align: middle;\n",
       "    }\n",
       "\n",
       "    .dataframe tbody tr th {\n",
       "        vertical-align: top;\n",
       "    }\n",
       "\n",
       "    .dataframe thead th {\n",
       "        text-align: right;\n",
       "    }\n",
       "</style>\n",
       "<table border=\"1\" class=\"dataframe\">\n",
       "  <thead>\n",
       "    <tr style=\"text-align: right;\">\n",
       "      <th></th>\n",
       "      <th>State</th>\n",
       "      <th>County</th>\n",
       "      <th>Population</th>\n",
       "      <th>Poverty Count</th>\n",
       "      <th>Poverty White</th>\n",
       "      <th>Poverty Black</th>\n",
       "      <th>Poverty Asian</th>\n",
       "      <th>Poverty Hispanic</th>\n",
       "      <th>Total Poverty Rate (%)</th>\n",
       "      <th>lat</th>\n",
       "      <th>lng</th>\n",
       "    </tr>\n",
       "  </thead>\n",
       "  <tbody>\n",
       "    <tr>\n",
       "      <th>0</th>\n",
       "      <td>Iowa</td>\n",
       "      <td>Delaware County</td>\n",
       "      <td>17326.0</td>\n",
       "      <td>1570.0</td>\n",
       "      <td>1492.0</td>\n",
       "      <td>41.0</td>\n",
       "      <td>21.0</td>\n",
       "      <td>111.0</td>\n",
       "      <td>9.061526</td>\n",
       "      <td>42.4634</td>\n",
       "      <td>-91.4435</td>\n",
       "    </tr>\n",
       "    <tr>\n",
       "      <th>1</th>\n",
       "      <td>Iowa</td>\n",
       "      <td>Jefferson County</td>\n",
       "      <td>17945.0</td>\n",
       "      <td>2510.0</td>\n",
       "      <td>1601.0</td>\n",
       "      <td>588.0</td>\n",
       "      <td>268.0</td>\n",
       "      <td>155.0</td>\n",
       "      <td>13.987183</td>\n",
       "      <td>41.0236</td>\n",
       "      <td>-91.9099</td>\n",
       "    </tr>\n",
       "    <tr>\n",
       "      <th>2</th>\n",
       "      <td>Iowa</td>\n",
       "      <td>Wayne County</td>\n",
       "      <td>6405.0</td>\n",
       "      <td>1001.0</td>\n",
       "      <td>916.0</td>\n",
       "      <td>21.0</td>\n",
       "      <td>3.0</td>\n",
       "      <td>0.0</td>\n",
       "      <td>15.628415</td>\n",
       "      <td>40.6677</td>\n",
       "      <td>-93.3389</td>\n",
       "    </tr>\n",
       "    <tr>\n",
       "      <th>3</th>\n",
       "      <td>Iowa</td>\n",
       "      <td>Allamakee County</td>\n",
       "      <td>13940.0</td>\n",
       "      <td>1550.0</td>\n",
       "      <td>1476.0</td>\n",
       "      <td>21.0</td>\n",
       "      <td>11.0</td>\n",
       "      <td>353.0</td>\n",
       "      <td>11.119082</td>\n",
       "      <td>43.2431</td>\n",
       "      <td>-91.4435</td>\n",
       "    </tr>\n",
       "    <tr>\n",
       "      <th>4</th>\n",
       "      <td>Iowa</td>\n",
       "      <td>Linn County</td>\n",
       "      <td>220008.0</td>\n",
       "      <td>20280.0</td>\n",
       "      <td>15228.0</td>\n",
       "      <td>3178.0</td>\n",
       "      <td>265.0</td>\n",
       "      <td>1006.0</td>\n",
       "      <td>9.217847</td>\n",
       "      <td>42.066</td>\n",
       "      <td>-91.6761</td>\n",
       "    </tr>\n",
       "  </tbody>\n",
       "</table>\n",
       "</div>"
      ],
      "text/plain": [
       "   State            County  Population  Poverty Count  Poverty White  \\\n",
       "0   Iowa   Delaware County     17326.0         1570.0         1492.0   \n",
       "1   Iowa  Jefferson County     17945.0         2510.0         1601.0   \n",
       "2   Iowa      Wayne County      6405.0         1001.0          916.0   \n",
       "3   Iowa  Allamakee County     13940.0         1550.0         1476.0   \n",
       "4   Iowa       Linn County    220008.0        20280.0        15228.0   \n",
       "\n",
       "   Poverty Black  Poverty Asian  Poverty Hispanic  Total Poverty Rate (%)  \\\n",
       "0           41.0           21.0             111.0                9.061526   \n",
       "1          588.0          268.0             155.0               13.987183   \n",
       "2           21.0            3.0               0.0               15.628415   \n",
       "3           21.0           11.0             353.0               11.119082   \n",
       "4         3178.0          265.0            1006.0                9.217847   \n",
       "\n",
       "       lat      lng  \n",
       "0  42.4634 -91.4435  \n",
       "1  41.0236 -91.9099  \n",
       "2  40.6677 -93.3389  \n",
       "3  43.2431 -91.4435  \n",
       "4   42.066 -91.6761  "
      ]
     },
     "execution_count": 5,
     "metadata": {},
     "output_type": "execute_result"
    }
   ],
   "source": [
    "counties_df.head()"
   ]
  },
  {
   "cell_type": "code",
   "execution_count": 6,
   "metadata": {},
   "outputs": [],
   "source": [
    "gmaps.configure(api_key=gkey)"
   ]
  },
  {
   "cell_type": "code",
   "execution_count": 7,
   "metadata": {},
   "outputs": [],
   "source": [
    "locations = counties_df[[\"lat\", \"lng\"]].astype(float)\n",
    "\n",
    "poverty_rate = counties_df[\"Total Poverty Rate (%)\"].astype(float)"
   ]
  },
  {
   "cell_type": "code",
   "execution_count": 8,
   "metadata": {},
   "outputs": [
    {
     "data": {
      "application/vnd.jupyter.widget-view+json": {
       "model_id": "32c4972f99f84e93b1dc346e5c88eeb7",
       "version_major": 2,
       "version_minor": 0
      },
      "text/plain": [
       "Figure(layout=FigureLayout(height='420px'))"
      ]
     },
     "metadata": {},
     "output_type": "display_data"
    }
   ],
   "source": [
    "fig = gmaps.figure()\n",
    "\n",
    "heat_layer = gmaps.heatmap_layer(locations, weights=poverty_rate, \n",
    "                                 dissipating=False, max_intensity=100,\n",
    "                                 point_radius = 1)\n",
    "heat_layer.dissipating = False\n",
    "heat_layer.max_intensity = 100\n",
    "heat_layer.point_radius = 1\n",
    "\n",
    "fig.add_layer(heat_layer)\n",
    "\n",
    "fig"
   ]
  },
  {
   "cell_type": "code",
   "execution_count": null,
   "metadata": {},
   "outputs": [],
   "source": []
  }
 ],
 "metadata": {
  "kernelspec": {
   "display_name": "Python 3",
   "language": "python",
   "name": "python3"
  },
  "language_info": {
   "codemirror_mode": {
    "name": "ipython",
    "version": 3
   },
   "file_extension": ".py",
   "mimetype": "text/x-python",
   "name": "python",
   "nbconvert_exporter": "python",
   "pygments_lexer": "ipython3",
   "version": "3.6.7"
  }
 },
 "nbformat": 4,
 "nbformat_minor": 2
}
