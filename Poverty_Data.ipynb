{
 "cells": [
  {
   "cell_type": "code",
   "execution_count": 14,
   "metadata": {},
   "outputs": [],
   "source": [
    "# Dependencies\n",
    "import numpy as np\n",
    "import pandas as pd\n",
    "import requests\n",
    "from census import Census\n",
    "\n",
    "# Census API Keys\n",
    "from config import (api_key)\n",
    "c = Census(api_key, year=2017)"
   ]
  },
  {
   "cell_type": "markdown",
   "metadata": {},
   "source": [
    "### The poverty numbers in the dataframe is \"Number of persons whose income in the past 12 months is below the poverty level\""
   ]
  },
  {
   "cell_type": "code",
   "execution_count": 15,
   "metadata": {},
   "outputs": [
    {
     "data": {
      "text/html": [
       "<div>\n",
       "<style scoped>\n",
       "    .dataframe tbody tr th:only-of-type {\n",
       "        vertical-align: middle;\n",
       "    }\n",
       "\n",
       "    .dataframe tbody tr th {\n",
       "        vertical-align: top;\n",
       "    }\n",
       "\n",
       "    .dataframe thead th {\n",
       "        text-align: right;\n",
       "    }\n",
       "</style>\n",
       "<table border=\"1\" class=\"dataframe\">\n",
       "  <thead>\n",
       "    <tr style=\"text-align: right;\">\n",
       "      <th></th>\n",
       "      <th>County</th>\n",
       "      <th>Population</th>\n",
       "      <th>Poverty Count</th>\n",
       "      <th>Total Poverty Rate (%)</th>\n",
       "    </tr>\n",
       "    <tr>\n",
       "      <th>State</th>\n",
       "      <th></th>\n",
       "      <th></th>\n",
       "      <th></th>\n",
       "      <th></th>\n",
       "    </tr>\n",
       "  </thead>\n",
       "  <tbody>\n",
       "    <tr>\n",
       "      <th>Iowa</th>\n",
       "      <td>Delaware County</td>\n",
       "      <td>17326.0</td>\n",
       "      <td>1570.0</td>\n",
       "      <td>9.061526</td>\n",
       "    </tr>\n",
       "    <tr>\n",
       "      <th>Iowa</th>\n",
       "      <td>Jefferson County</td>\n",
       "      <td>17945.0</td>\n",
       "      <td>2510.0</td>\n",
       "      <td>13.987183</td>\n",
       "    </tr>\n",
       "    <tr>\n",
       "      <th>Iowa</th>\n",
       "      <td>Wayne County</td>\n",
       "      <td>6405.0</td>\n",
       "      <td>1001.0</td>\n",
       "      <td>15.628415</td>\n",
       "    </tr>\n",
       "    <tr>\n",
       "      <th>Iowa</th>\n",
       "      <td>Allamakee County</td>\n",
       "      <td>13940.0</td>\n",
       "      <td>1550.0</td>\n",
       "      <td>11.119082</td>\n",
       "    </tr>\n",
       "    <tr>\n",
       "      <th>Iowa</th>\n",
       "      <td>Linn County</td>\n",
       "      <td>220008.0</td>\n",
       "      <td>20280.0</td>\n",
       "      <td>9.217847</td>\n",
       "    </tr>\n",
       "  </tbody>\n",
       "</table>\n",
       "</div>"
      ],
      "text/plain": [
       "                 County  Population  Poverty Count  Total Poverty Rate (%)\n",
       "State                                                                     \n",
       " Iowa   Delaware County     17326.0         1570.0                9.061526\n",
       " Iowa  Jefferson County     17945.0         2510.0               13.987183\n",
       " Iowa      Wayne County      6405.0         1001.0               15.628415\n",
       " Iowa  Allamakee County     13940.0         1550.0               11.119082\n",
       " Iowa       Linn County    220008.0        20280.0                9.217847"
      ]
     },
     "execution_count": 15,
     "metadata": {},
     "output_type": "execute_result"
    }
   ],
   "source": [
    "#\"B25077_001E\": \"Median Home Value\"\n",
    "\n",
    "census_data = c.acs5.get((\"NAME\",\n",
    "                          \"B01003_001E\",\n",
    "                          \"B17001_002E\"), \n",
    "                         {'for': 'county:*','in':'state:19'})\n",
    "\n",
    "# Convert to DataFrame\n",
    "census_pd = pd.DataFrame(census_data)\n",
    "\n",
    "# Column Reordering\n",
    "census_pd = census_pd.rename(columns={\"B01003_001E\": \"Population\",\n",
    "                                      \"B17001_002E\": \"Poverty Count\",\n",
    "                                      \"NAME\": \"Name\"})\n",
    "\n",
    "# Add in Poverty Rate (Poverty Count / Population)\n",
    "census_pd[\"Total Poverty Rate (%)\"] = 100 * census_pd[\"Poverty Count\"].astype(int) / census_pd[\"Population\"].astype(int)\n",
    "\n",
    "\n",
    "# Final DataFrame\n",
    "census_pd = census_pd[[\"Name\", \"Population\",\n",
    "                       \"Poverty Count\", \"Total Poverty Rate (%)\"]]\n",
    "\n",
    "\n",
    "split = census_pd[\"Name\"].str.split(\",\", n = 1, expand = True)\n",
    "census_pd[\"County\"]= split[0]\n",
    "census_pd[\"State\"]=split[1]\n",
    "census_pd = census_pd[[\"State\", \"County\", \"Population\", \n",
    "                       \"Poverty Count\", \"Total Poverty Rate (%)\"]]\n",
    "\n",
    "census_pd = census_pd.set_index(\"State\")\n",
    "census_pd.to_csv(\"2017_Poverty_Data.csv\")\n",
    "census_pd.head()"
   ]
  },
  {
   "cell_type": "code",
   "execution_count": null,
   "metadata": {},
   "outputs": [],
   "source": []
  },
  {
   "cell_type": "code",
   "execution_count": null,
   "metadata": {},
   "outputs": [],
   "source": []
  },
  {
   "cell_type": "code",
   "execution_count": null,
   "metadata": {},
   "outputs": [],
   "source": []
  }
 ],
 "metadata": {
  "kernelspec": {
   "display_name": "Python 3",
   "language": "python",
   "name": "python3"
  },
  "language_info": {
   "codemirror_mode": {
    "name": "ipython",
    "version": 3
   },
   "file_extension": ".py",
   "mimetype": "text/x-python",
   "name": "python",
   "nbconvert_exporter": "python",
   "pygments_lexer": "ipython3",
   "version": "3.6.7"
  }
 },
 "nbformat": 4,
 "nbformat_minor": 2
}
