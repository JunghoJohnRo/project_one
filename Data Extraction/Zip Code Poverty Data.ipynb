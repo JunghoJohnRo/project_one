{
 "cells": [
  {
   "cell_type": "code",
   "execution_count": 1,
   "metadata": {},
   "outputs": [],
   "source": [
    "# Dependencies\n",
    "import numpy as np\n",
    "import pandas as pd\n",
    "import requests\n",
    "from census import Census\n",
    "\n",
    "# Census API Keys (Had to re-enter year to pull data all of our data between 2012-2017)\n",
    "from config import (api_key)\n",
    "c = Census(api_key, year=2017)"
   ]
  },
  {
   "cell_type": "markdown",
   "metadata": {},
   "source": [
    "### The poverty numbers in the dataframe is \"Number of persons whose income in the past 12 months is below the poverty level\""
   ]
  },
  {
   "cell_type": "code",
   "execution_count": 2,
   "metadata": {},
   "outputs": [],
   "source": [
    " #\"B25077_001E\": \"Median Home Value\"\n",
    "\n",
    "census_data = c.acs5.get((\"NAME\",\n",
    "                          \"B01003_001E\",\n",
    "                          \"B17001_002E\"), \n",
    "                         {'for': 'zip code tabulation area:*'})\n",
    "\n",
    "        \n",
    "# Convert to DataFrame\n",
    "census_pd = pd.DataFrame(census_data)\n",
    "\n",
    "# Column Reordering\n",
    "census_pd = census_pd.rename(columns={\"B01003_001E\": \"Population\",\n",
    "                                      \"B17001_002E\": \"Poverty Count\",\n",
    "                                      \"zip code tabulation area\": \"Zip Code\"})\n",
    "\n",
    "# Add in Poverty Rate (Poverty Count / Population)\n",
    "census_pd[\"Total Poverty Rate (%)\"] = 100 * census_pd[\"Poverty Count\"].astype(int) / census_pd[\"Population\"].astype(int)\n",
    "\n",
    "\n",
    "# Final DataFrame\n",
    "census_pd = census_pd[[\"Zip Code\", \"Population\",\n",
    "                       \"Poverty Count\", \"Total Poverty Rate (%)\"]]\n"
   ]
  },
  {
   "cell_type": "code",
   "execution_count": 3,
   "metadata": {},
   "outputs": [
    {
     "data": {
      "text/html": [
       "<div>\n",
       "<style scoped>\n",
       "    .dataframe tbody tr th:only-of-type {\n",
       "        vertical-align: middle;\n",
       "    }\n",
       "\n",
       "    .dataframe tbody tr th {\n",
       "        vertical-align: top;\n",
       "    }\n",
       "\n",
       "    .dataframe thead th {\n",
       "        text-align: right;\n",
       "    }\n",
       "</style>\n",
       "<table border=\"1\" class=\"dataframe\">\n",
       "  <thead>\n",
       "    <tr style=\"text-align: right;\">\n",
       "      <th></th>\n",
       "      <th>Zip Code</th>\n",
       "      <th>Population</th>\n",
       "      <th>Poverty Count</th>\n",
       "      <th>Total Poverty Rate (%)</th>\n",
       "    </tr>\n",
       "  </thead>\n",
       "  <tbody>\n",
       "    <tr>\n",
       "      <th>0</th>\n",
       "      <td>00601</td>\n",
       "      <td>17599.0</td>\n",
       "      <td>11282.0</td>\n",
       "      <td>64.105915</td>\n",
       "    </tr>\n",
       "    <tr>\n",
       "      <th>1</th>\n",
       "      <td>00602</td>\n",
       "      <td>39209.0</td>\n",
       "      <td>20428.0</td>\n",
       "      <td>52.100283</td>\n",
       "    </tr>\n",
       "    <tr>\n",
       "      <th>2</th>\n",
       "      <td>00603</td>\n",
       "      <td>50135.0</td>\n",
       "      <td>25176.0</td>\n",
       "      <td>50.216416</td>\n",
       "    </tr>\n",
       "    <tr>\n",
       "      <th>3</th>\n",
       "      <td>00606</td>\n",
       "      <td>6304.0</td>\n",
       "      <td>4092.0</td>\n",
       "      <td>64.911168</td>\n",
       "    </tr>\n",
       "    <tr>\n",
       "      <th>4</th>\n",
       "      <td>00610</td>\n",
       "      <td>27590.0</td>\n",
       "      <td>12553.0</td>\n",
       "      <td>45.498369</td>\n",
       "    </tr>\n",
       "  </tbody>\n",
       "</table>\n",
       "</div>"
      ],
      "text/plain": [
       "  Zip Code  Population  Poverty Count  Total Poverty Rate (%)\n",
       "0    00601     17599.0        11282.0               64.105915\n",
       "1    00602     39209.0        20428.0               52.100283\n",
       "2    00603     50135.0        25176.0               50.216416\n",
       "3    00606      6304.0         4092.0               64.911168\n",
       "4    00610     27590.0        12553.0               45.498369"
      ]
     },
     "execution_count": 3,
     "metadata": {},
     "output_type": "execute_result"
    }
   ],
   "source": [
    "census_pd.head()"
   ]
  },
  {
   "cell_type": "code",
   "execution_count": 4,
   "metadata": {},
   "outputs": [],
   "source": [
    "census_pd['Zip Code'] = pd.to_numeric(census_pd['Zip Code'])"
   ]
  },
  {
   "cell_type": "code",
   "execution_count": 5,
   "metadata": {},
   "outputs": [
    {
     "data": {
      "text/html": [
       "<div>\n",
       "<style scoped>\n",
       "    .dataframe tbody tr th:only-of-type {\n",
       "        vertical-align: middle;\n",
       "    }\n",
       "\n",
       "    .dataframe tbody tr th {\n",
       "        vertical-align: top;\n",
       "    }\n",
       "\n",
       "    .dataframe thead th {\n",
       "        text-align: right;\n",
       "    }\n",
       "</style>\n",
       "<table border=\"1\" class=\"dataframe\">\n",
       "  <thead>\n",
       "    <tr style=\"text-align: right;\">\n",
       "      <th></th>\n",
       "      <th>Population</th>\n",
       "      <th>Poverty Count</th>\n",
       "      <th>Total Poverty Rate (%)</th>\n",
       "    </tr>\n",
       "    <tr>\n",
       "      <th>Zip Code</th>\n",
       "      <th></th>\n",
       "      <th></th>\n",
       "      <th></th>\n",
       "    </tr>\n",
       "  </thead>\n",
       "  <tbody>\n",
       "    <tr>\n",
       "      <th>50001</th>\n",
       "      <td>746.0</td>\n",
       "      <td>142.0</td>\n",
       "      <td>19.034853</td>\n",
       "    </tr>\n",
       "    <tr>\n",
       "      <th>50002</th>\n",
       "      <td>1443.0</td>\n",
       "      <td>161.0</td>\n",
       "      <td>11.157311</td>\n",
       "    </tr>\n",
       "    <tr>\n",
       "      <th>50003</th>\n",
       "      <td>7107.0</td>\n",
       "      <td>495.0</td>\n",
       "      <td>6.964964</td>\n",
       "    </tr>\n",
       "    <tr>\n",
       "      <th>50005</th>\n",
       "      <td>1015.0</td>\n",
       "      <td>19.0</td>\n",
       "      <td>1.871921</td>\n",
       "    </tr>\n",
       "    <tr>\n",
       "      <th>50006</th>\n",
       "      <td>1621.0</td>\n",
       "      <td>154.0</td>\n",
       "      <td>9.500308</td>\n",
       "    </tr>\n",
       "  </tbody>\n",
       "</table>\n",
       "</div>"
      ],
      "text/plain": [
       "          Population  Poverty Count  Total Poverty Rate (%)\n",
       "Zip Code                                                   \n",
       "50001          746.0          142.0               19.034853\n",
       "50002         1443.0          161.0               11.157311\n",
       "50003         7107.0          495.0                6.964964\n",
       "50005         1015.0           19.0                1.871921\n",
       "50006         1621.0          154.0                9.500308"
      ]
     },
     "execution_count": 5,
     "metadata": {},
     "output_type": "execute_result"
    }
   ],
   "source": [
    "census_pd = census_pd.loc[census_pd[\"Zip Code\"] > 50000,:]\n",
    "census_pd = census_pd.loc[census_pd[\"Zip Code\"] < 52810,:]\n",
    "census_pd = census_pd.set_index(\"Zip Code\")\n",
    "census_pd.to_csv(\"2017_zipcode_data.csv\")\n",
    "census_pd.head()"
   ]
  },
  {
   "cell_type": "code",
   "execution_count": null,
   "metadata": {},
   "outputs": [],
   "source": []
  },
  {
   "cell_type": "code",
   "execution_count": null,
   "metadata": {},
   "outputs": [],
   "source": []
  }
 ],
 "metadata": {
  "kernelspec": {
   "display_name": "Python 3",
   "language": "python",
   "name": "python3"
  },
  "language_info": {
   "codemirror_mode": {
    "name": "ipython",
    "version": 3
   },
   "file_extension": ".py",
   "mimetype": "text/x-python",
   "name": "python",
   "nbconvert_exporter": "python",
   "pygments_lexer": "ipython3",
   "version": "3.6.7"
  }
 },
 "nbformat": 4,
 "nbformat_minor": 2
}
