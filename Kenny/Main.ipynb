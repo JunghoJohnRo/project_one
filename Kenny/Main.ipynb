{
 "cells": [
  {
   "cell_type": "code",
   "execution_count": 3,
   "metadata": {},
   "outputs": [],
   "source": [
    "# Dependencies\n",
    "import requests\n",
    "import json\n",
    "\n",
    "from pprint import pprint\n",
    "from config import gkey\n",
    "from config import api_key"
   ]
  },
  {
   "cell_type": "code",
   "execution_count": 7,
   "metadata": {},
   "outputs": [
    {
     "name": "stdout",
     "output_type": "stream",
     "text": [
      "Trader Joe's\n",
      "11220 Wayzata Boulevard, Minnetonka\n",
      "20\n"
     ]
    }
   ],
   "source": [
    "base_url = \"https://maps.googleapis.com/maps/api/place/nearbysearch/json\"\n",
    "target_coord=\"44.951903, -93.437736\"\n",
    "target_type=\"liquor_store\"\n",
    "target_radius=8000\n",
    "key=gkey\n",
    "params = {\n",
    "    \"location\": target_coord,\n",
    "    \"type\": target_type,\n",
    "    #\"keyword\":target_key,\n",
    "    \"radius\":target_radius,\n",
    "    \"key\": gkey\n",
    "}\n",
    "places_data = requests.get(base_url, params=params).json()\n",
    "print(places_data[\"results\"][0][\"name\"])\n",
    "print(places_data[\"results\"][0][\"vicinity\"])\n",
    "total=0\n",
    "for x in range(len(places_data[\"results\"])):\n",
    "    total=total+1\n",
    "print(total)"
   ]
  },
  {
   "cell_type": "code",
   "execution_count": null,
   "metadata": {},
   "outputs": [],
   "source": []
  }
 ],
 "metadata": {
  "kernelspec": {
   "display_name": "Python 3",
   "language": "python",
   "name": "python3"
  },
  "language_info": {
   "codemirror_mode": {
    "name": "ipython",
    "version": 3
   },
   "file_extension": ".py",
   "mimetype": "text/x-python",
   "name": "python",
   "nbconvert_exporter": "python",
   "pygments_lexer": "ipython3",
   "version": "3.7.1"
  }
 },
 "nbformat": 4,
 "nbformat_minor": 2
}
