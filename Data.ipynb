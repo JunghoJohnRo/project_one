{
 "cells": [
  {
   "cell_type": "code",
   "execution_count": 1,
   "metadata": {},
   "outputs": [],
   "source": [
    "# Dependencies\n",
    "import requests\n",
    "import json\n",
    "import pandas as pd\n",
    "\n",
    "from pprint import pprint\n",
    "from sodapy import Socrata\n",
    "from config import Iowa_Key\n",
    "from config import Census_Key"
   ]
  },
  {
   "cell_type": "code",
   "execution_count": 2,
   "metadata": {},
   "outputs": [],
   "source": [
    "client = Socrata(\"data.iowa.gov\", Iowa_Key)\n",
    "results = client.get(\"ykb6-ywnd\", limit=2000)\n",
    "\n",
    "# Convert to pandas DataFrame\n",
    "results_df = pd.DataFrame.from_records(results)\n",
    "#results_df.head()"
   ]
  },
  {
   "cell_type": "code",
   "execution_count": 3,
   "metadata": {},
   "outputs": [
    {
     "data": {
      "text/html": [
       "<div>\n",
       "<style scoped>\n",
       "    .dataframe tbody tr th:only-of-type {\n",
       "        vertical-align: middle;\n",
       "    }\n",
       "\n",
       "    .dataframe tbody tr th {\n",
       "        vertical-align: top;\n",
       "    }\n",
       "\n",
       "    .dataframe thead th {\n",
       "        text-align: right;\n",
       "    }\n",
       "</style>\n",
       "<table border=\"1\" class=\"dataframe\">\n",
       "  <thead>\n",
       "    <tr style=\"text-align: right;\">\n",
       "      <th></th>\n",
       "      <th>City</th>\n",
       "      <th>Address</th>\n",
       "      <th>Status</th>\n",
       "      <th>Zip Code</th>\n",
       "    </tr>\n",
       "  </thead>\n",
       "  <tbody>\n",
       "    <tr>\n",
       "      <th>0</th>\n",
       "      <td>Guthrie Center</td>\n",
       "      <td>200 State Po Box 98</td>\n",
       "      <td>A</td>\n",
       "      <td>50115</td>\n",
       "    </tr>\n",
       "    <tr>\n",
       "      <th>1</th>\n",
       "      <td>Boone</td>\n",
       "      <td>1111 8TH ST</td>\n",
       "      <td>A</td>\n",
       "      <td>50036</td>\n",
       "    </tr>\n",
       "    <tr>\n",
       "      <th>2</th>\n",
       "      <td>Burlington</td>\n",
       "      <td>3140 Agency</td>\n",
       "      <td>A</td>\n",
       "      <td>52601</td>\n",
       "    </tr>\n",
       "    <tr>\n",
       "      <th>3</th>\n",
       "      <td>Burlington</td>\n",
       "      <td>939 Angular</td>\n",
       "      <td>A</td>\n",
       "      <td>52601</td>\n",
       "    </tr>\n",
       "    <tr>\n",
       "      <th>4</th>\n",
       "      <td>Cedar Rapids</td>\n",
       "      <td>1843 Johnson Avenue, N.W.</td>\n",
       "      <td>A</td>\n",
       "      <td>52405</td>\n",
       "    </tr>\n",
       "  </tbody>\n",
       "</table>\n",
       "</div>"
      ],
      "text/plain": [
       "             City                    Address Status Zip Code\n",
       "0  Guthrie Center        200 State Po Box 98      A    50115\n",
       "1           Boone                1111 8TH ST      A    50036\n",
       "2      Burlington                3140 Agency      A    52601\n",
       "3      Burlington                939 Angular      A    52601\n",
       "4    Cedar Rapids  1843 Johnson Avenue, N.W.      A    52405"
      ]
     },
     "execution_count": 3,
     "metadata": {},
     "output_type": "execute_result"
    }
   ],
   "source": [
    "new_df=results_df[[\"city\",\"store_address_address\",\"store_status\",\"store_address_zip\"]]\n",
    "new_df.columns = [\"City\",\"Address\",\"Status\",\"Zip Code\"]\n",
    "Active_Stores_df=new_df.loc[new_df[\"Status\"]==\"A\"].reset_index(drop=True)\n",
    "Active_Stores_df.head()"
   ]
  },
  {
   "cell_type": "code",
   "execution_count": 6,
   "metadata": {},
   "outputs": [
    {
     "data": {
      "text/html": [
       "<div>\n",
       "<style scoped>\n",
       "    .dataframe tbody tr th:only-of-type {\n",
       "        vertical-align: middle;\n",
       "    }\n",
       "\n",
       "    .dataframe tbody tr th {\n",
       "        vertical-align: top;\n",
       "    }\n",
       "\n",
       "    .dataframe thead th {\n",
       "        text-align: right;\n",
       "    }\n",
       "</style>\n",
       "<table border=\"1\" class=\"dataframe\">\n",
       "  <thead>\n",
       "    <tr style=\"text-align: right;\">\n",
       "      <th></th>\n",
       "      <th>City</th>\n",
       "      <th>Price</th>\n",
       "      <th>Address</th>\n",
       "      <th>Zipcode</th>\n",
       "    </tr>\n",
       "  </thead>\n",
       "  <tbody>\n",
       "    <tr>\n",
       "      <th>0</th>\n",
       "      <td>WAPELLO</td>\n",
       "      <td>17.74</td>\n",
       "      <td>503 HWY 61 SOUTH</td>\n",
       "      <td>52653</td>\n",
       "    </tr>\n",
       "    <tr>\n",
       "      <th>1</th>\n",
       "      <td>FORT DODGE</td>\n",
       "      <td>5.19</td>\n",
       "      <td>1231 1ST AVE S</td>\n",
       "      <td>50501</td>\n",
       "    </tr>\n",
       "    <tr>\n",
       "      <th>2</th>\n",
       "      <td>ANKENY</td>\n",
       "      <td>40.49</td>\n",
       "      <td>2510 SW STATE ST</td>\n",
       "      <td>50023</td>\n",
       "    </tr>\n",
       "    <tr>\n",
       "      <th>3</th>\n",
       "      <td>SPIRIT LAKE</td>\n",
       "      <td>17.01</td>\n",
       "      <td>HWY 9 &amp; 71</td>\n",
       "      <td>51360</td>\n",
       "    </tr>\n",
       "    <tr>\n",
       "      <th>4</th>\n",
       "      <td>GRUNDY CENTER</td>\n",
       "      <td>12.37</td>\n",
       "      <td>1400, G AVE</td>\n",
       "      <td>50638</td>\n",
       "    </tr>\n",
       "  </tbody>\n",
       "</table>\n",
       "</div>"
      ],
      "text/plain": [
       "            City  Price           Address Zipcode\n",
       "0        WAPELLO  17.74  503 HWY 61 SOUTH   52653\n",
       "1     FORT DODGE   5.19    1231 1ST AVE S   50501\n",
       "2         ANKENY  40.49  2510 SW STATE ST   50023\n",
       "3    SPIRIT LAKE  17.01        HWY 9 & 71   51360\n",
       "4  GRUNDY CENTER  12.37       1400, G AVE   50638"
      ]
     },
     "execution_count": 6,
     "metadata": {},
     "output_type": "execute_result"
    }
   ],
   "source": [
    "sales = client.get(\"m3tr-qhgy\", limit=2000)\n",
    "initial_sales_df = pd.DataFrame.from_records(sales)\n",
    "cleaned_sales_df=initial_sales_df[[\"city\",\"state_bottle_retail\",\"store_location_address\",\"zipcode\"]]\n",
    "cleaned_sales_df.columns = [\"City\", \"Price\", \"Address\", \"Zipcode\"]\n",
    "cleaned_sales_df.head()"
   ]
  },
  {
   "cell_type": "code",
   "execution_count": null,
   "metadata": {},
   "outputs": [],
   "source": []
  }
 ],
 "metadata": {
  "kernelspec": {
   "display_name": "Python 3",
   "language": "python",
   "name": "python3"
  },
  "language_info": {
   "codemirror_mode": {
    "name": "ipython",
    "version": 3
   },
   "file_extension": ".py",
   "mimetype": "text/x-python",
   "name": "python",
   "nbconvert_exporter": "python",
   "pygments_lexer": "ipython3",
   "version": "3.7.1"
  }
 },
 "nbformat": 4,
 "nbformat_minor": 2
}
