{
 "cells": [
  {
   "cell_type": "code",
   "execution_count": 1,
   "metadata": {},
   "outputs": [],
   "source": [
    "# Dependencies\n",
    "import pandas as pd\n",
    "import numpy as np\n",
    "import requests\n",
    "import json\n",
    "import gmaps\n",
    "import matplotlib.pyplot as plt\n",
    "from pprint import pprint\n",
    "\n",
    "# Import API key\n",
    "from config import gkey"
   ]
  },
  {
   "cell_type": "code",
   "execution_count": 2,
   "metadata": {},
   "outputs": [],
   "source": [
    "cities_df = pd.read_csv('Other_Data/Heatmap_Data.csv')\n",
    "del cities_df[\"Unnamed: 0\"]\n",
    "del cities_df[\"Population\"]\n",
    "del cities_df[\"Poverty Count\"]"
   ]
  },
  {
   "cell_type": "code",
   "execution_count": 4,
   "metadata": {},
   "outputs": [],
   "source": [
    "cities_df[\"State\"] = \"Iowa\"\n",
    "cities_df['lat'] = \"\"\n",
    "cities_df['lng'] = \"\"\n",
    "cities_df = cities_df[[\"City\", \"State\", \"Zip Code\", \"Total Poverty Rate (%)\", \"lat\", \"lng\"]]\n",
    "cities_df.head()\n",
    "cities_df.to_csv(\"Cities Poverty.csv\")"
   ]
  },
  {
   "cell_type": "code",
   "execution_count": 4,
   "metadata": {},
   "outputs": [],
   "source": [
    "params = {\"key\":gkey}\n",
    "for index, row in cities_df.iterrows():\n",
    "    base_url = \"https://maps.googleapis.com/maps/api/geocode/json\"\n",
    "    city = row['City']\n",
    "    state = row['State']\n",
    "    params['address'] = f\"{city},{state}\"\n",
    "    cities_lat_lng = requests.get(base_url, params=params).json()\n",
    "    cities_df.loc[index, \"lat\"] = cities_lat_lng[\"results\"][0][\"geometry\"][\"location\"][\"lat\"]\n",
    "    cities_df.loc[index, \"lng\"] = cities_lat_lng[\"results\"][0][\"geometry\"][\"location\"][\"lng\"]"
   ]
  },
  {
   "cell_type": "code",
   "execution_count": 5,
   "metadata": {},
   "outputs": [
    {
     "data": {
      "text/html": [
       "<div>\n",
       "<style scoped>\n",
       "    .dataframe tbody tr th:only-of-type {\n",
       "        vertical-align: middle;\n",
       "    }\n",
       "\n",
       "    .dataframe tbody tr th {\n",
       "        vertical-align: top;\n",
       "    }\n",
       "\n",
       "    .dataframe thead th {\n",
       "        text-align: right;\n",
       "    }\n",
       "</style>\n",
       "<table border=\"1\" class=\"dataframe\">\n",
       "  <thead>\n",
       "    <tr style=\"text-align: right;\">\n",
       "      <th></th>\n",
       "      <th>City</th>\n",
       "      <th>State</th>\n",
       "      <th>Zip Code</th>\n",
       "      <th>Total Poverty Rate (%)</th>\n",
       "      <th>lat</th>\n",
       "      <th>lng</th>\n",
       "    </tr>\n",
       "  </thead>\n",
       "  <tbody>\n",
       "    <tr>\n",
       "      <th>0</th>\n",
       "      <td>Ackworth</td>\n",
       "      <td>Iowa</td>\n",
       "      <td>50001</td>\n",
       "      <td>19.034853</td>\n",
       "      <td>41.3669</td>\n",
       "      <td>-93.4727</td>\n",
       "    </tr>\n",
       "    <tr>\n",
       "      <th>1</th>\n",
       "      <td>Adair</td>\n",
       "      <td>Iowa</td>\n",
       "      <td>50002</td>\n",
       "      <td>11.157311</td>\n",
       "      <td>41.5004</td>\n",
       "      <td>-94.6434</td>\n",
       "    </tr>\n",
       "    <tr>\n",
       "      <th>2</th>\n",
       "      <td>Adel</td>\n",
       "      <td>Iowa</td>\n",
       "      <td>50003</td>\n",
       "      <td>6.964964</td>\n",
       "      <td>41.6144</td>\n",
       "      <td>-94.0175</td>\n",
       "    </tr>\n",
       "    <tr>\n",
       "      <th>3</th>\n",
       "      <td>Albion</td>\n",
       "      <td>Iowa</td>\n",
       "      <td>50005</td>\n",
       "      <td>1.871921</td>\n",
       "      <td>42.1124</td>\n",
       "      <td>-92.99</td>\n",
       "    </tr>\n",
       "    <tr>\n",
       "      <th>4</th>\n",
       "      <td>Alden</td>\n",
       "      <td>Iowa</td>\n",
       "      <td>50006</td>\n",
       "      <td>9.500308</td>\n",
       "      <td>42.5203</td>\n",
       "      <td>-93.376</td>\n",
       "    </tr>\n",
       "  </tbody>\n",
       "</table>\n",
       "</div>"
      ],
      "text/plain": [
       "       City State  Zip Code  Total Poverty Rate (%)      lat      lng\n",
       "0  Ackworth  Iowa     50001               19.034853  41.3669 -93.4727\n",
       "1     Adair  Iowa     50002               11.157311  41.5004 -94.6434\n",
       "2      Adel  Iowa     50003                6.964964  41.6144 -94.0175\n",
       "3    Albion  Iowa     50005                1.871921  42.1124   -92.99\n",
       "4     Alden  Iowa     50006                9.500308  42.5203  -93.376"
      ]
     },
     "execution_count": 5,
     "metadata": {},
     "output_type": "execute_result"
    }
   ],
   "source": [
    "cities_df.head()"
   ]
  },
  {
   "cell_type": "code",
   "execution_count": 6,
   "metadata": {},
   "outputs": [],
   "source": [
    "gmaps.configure(api_key=gkey)"
   ]
  },
  {
   "cell_type": "code",
   "execution_count": 13,
   "metadata": {},
   "outputs": [],
   "source": [
    "locations = cities_df[[\"lat\", \"lng\"]].astype(float)\n",
    "\n",
    "poverty_rate = cities_df[\"Total Poverty Rate (%)\"].astype(float)"
   ]
  },
  {
   "cell_type": "code",
   "execution_count": 14,
   "metadata": {},
   "outputs": [
    {
     "data": {
      "application/vnd.jupyter.widget-view+json": {
       "model_id": "77c91b0aad3c4b619ff11eba5bbb7a0e",
       "version_major": 2,
       "version_minor": 0
      },
      "text/plain": [
       "Figure(layout=FigureLayout(height='420px'))"
      ]
     },
     "metadata": {},
     "output_type": "display_data"
    }
   ],
   "source": [
    "fig = gmaps.figure()\n",
    "\n",
    "heat_layer = gmaps.heatmap_layer(locations, weights=poverty_rate, \n",
    "                                 dissipating=False, max_intensity=100,\n",
    "                                 point_radius = 1)\n",
    "heat_layer.dissipating = False\n",
    "heat_layer.max_intensity = 75\n",
    "heat_layer.point_radius = 0.3\n",
    "\n",
    "fig.add_layer(heat_layer)\n",
    "\n",
    "fig\n"
   ]
  },
  {
   "cell_type": "code",
   "execution_count": 9,
   "metadata": {},
   "outputs": [
    {
     "data": {
      "text/html": [
       "<div>\n",
       "<style scoped>\n",
       "    .dataframe tbody tr th:only-of-type {\n",
       "        vertical-align: middle;\n",
       "    }\n",
       "\n",
       "    .dataframe tbody tr th {\n",
       "        vertical-align: top;\n",
       "    }\n",
       "\n",
       "    .dataframe thead th {\n",
       "        text-align: right;\n",
       "    }\n",
       "</style>\n",
       "<table border=\"1\" class=\"dataframe\">\n",
       "  <thead>\n",
       "    <tr style=\"text-align: right;\">\n",
       "      <th></th>\n",
       "      <th>Address</th>\n",
       "      <th>City</th>\n",
       "      <th>State</th>\n",
       "      <th>lat</th>\n",
       "      <th>lng</th>\n",
       "    </tr>\n",
       "  </thead>\n",
       "  <tbody>\n",
       "    <tr>\n",
       "      <th>0</th>\n",
       "      <td>200 State Po Box 98</td>\n",
       "      <td>Guthrie Center</td>\n",
       "      <td>IA</td>\n",
       "      <td>41.677408</td>\n",
       "      <td>-94.502649</td>\n",
       "    </tr>\n",
       "    <tr>\n",
       "      <th>1</th>\n",
       "      <td>1111 8TH ST</td>\n",
       "      <td>Boone</td>\n",
       "      <td>IA</td>\n",
       "      <td>42.064750</td>\n",
       "      <td>-93.876110</td>\n",
       "    </tr>\n",
       "    <tr>\n",
       "      <th>2</th>\n",
       "      <td>3140 Agency</td>\n",
       "      <td>Burlington</td>\n",
       "      <td>IA</td>\n",
       "      <td>40.816170</td>\n",
       "      <td>-91.136651</td>\n",
       "    </tr>\n",
       "    <tr>\n",
       "      <th>3</th>\n",
       "      <td>939 Angular</td>\n",
       "      <td>Burlington</td>\n",
       "      <td>IA</td>\n",
       "      <td>40.801319</td>\n",
       "      <td>-91.110647</td>\n",
       "    </tr>\n",
       "    <tr>\n",
       "      <th>4</th>\n",
       "      <td>1843 Johnson Avenue, N.W.</td>\n",
       "      <td>Cedar Rapids</td>\n",
       "      <td>IA</td>\n",
       "      <td>41.973912</td>\n",
       "      <td>-91.698396</td>\n",
       "    </tr>\n",
       "  </tbody>\n",
       "</table>\n",
       "</div>"
      ],
      "text/plain": [
       "                     Address            City State        lat        lng\n",
       "0        200 State Po Box 98  Guthrie Center    IA  41.677408 -94.502649\n",
       "1                1111 8TH ST           Boone    IA  42.064750 -93.876110\n",
       "2                3140 Agency      Burlington    IA  40.816170 -91.136651\n",
       "3                939 Angular      Burlington    IA  40.801319 -91.110647\n",
       "4  1843 Johnson Avenue, N.W.    Cedar Rapids    IA  41.973912 -91.698396"
      ]
     },
     "execution_count": 9,
     "metadata": {},
     "output_type": "execute_result"
    }
   ],
   "source": [
    "stores_df = pd.read_csv(\"liquor_store_ia.csv\")\n",
    "\n",
    "del stores_df[\"Unnamed: 0\"]\n",
    "del stores_df[\"Status\"]\n",
    "del stores_df[\"Zip Code\"]\n",
    "stores_df.head()"
   ]
  },
  {
   "cell_type": "code",
   "execution_count": 15,
   "metadata": {
    "scrolled": true
   },
   "outputs": [
    {
     "data": {
      "application/vnd.jupyter.widget-view+json": {
       "model_id": "5e48860ddfe741fdbd17b22b89737449",
       "version_major": 2,
       "version_minor": 0
      },
      "text/plain": [
       "Figure(layout=FigureLayout(height='420px'))"
      ]
     },
     "metadata": {},
     "output_type": "display_data"
    }
   ],
   "source": [
    "locations = stores_df[[\"lat\", \"lng\"]].astype(float)\n",
    "\n",
    "store_layer = gmaps.symbol_layer(\n",
    "    locations, fill_color='rgba(0, 150, 0, 0.4)',\n",
    "    stroke_color='rgba(0, 0, 150, 0.4)', scale=2,)\n",
    "    \n",
    "fig = gmaps.figure()\n",
    "\n",
    "fig.add_layer(store_layer)\n",
    "\n",
    "fig"
   ]
  },
  {
   "cell_type": "code",
   "execution_count": 11,
   "metadata": {},
   "outputs": [
    {
     "data": {
      "application/vnd.jupyter.widget-view+json": {
       "model_id": "212601869eca42a1805187313041f8b2",
       "version_major": 2,
       "version_minor": 0
      },
      "text/plain": [
       "Figure(layout=FigureLayout(height='420px'))"
      ]
     },
     "metadata": {},
     "output_type": "display_data"
    }
   ],
   "source": [
    "fig = gmaps.figure()\n",
    "\n",
    "fig.add_layer(heat_layer)\n",
    "fig.add_layer(store_layer)\n",
    "\n",
    "fig"
   ]
  }
 ],
 "metadata": {
  "kernelspec": {
   "display_name": "Python 3",
   "language": "python",
   "name": "python3"
  },
  "language_info": {
   "codemirror_mode": {
    "name": "ipython",
    "version": 3
   },
   "file_extension": ".py",
   "mimetype": "text/x-python",
   "name": "python",
   "nbconvert_exporter": "python",
   "pygments_lexer": "ipython3",
   "version": "3.6.7"
  }
 },
 "nbformat": 4,
 "nbformat_minor": 2
}
