{
 "cells": [
  {
   "cell_type": "code",
   "execution_count": 34,
   "metadata": {},
   "outputs": [],
   "source": [
    "import pandas as pd\n",
    "import scipy.stats as stats\n",
    "from matplotlib import pyplot as plt"
   ]
  },
  {
   "cell_type": "code",
   "execution_count": 41,
   "metadata": {},
   "outputs": [],
   "source": [
    "sales_2012=pd.read_csv(\"./CSV_Files/2012_sales.csv\")\n",
    "sales_2013=pd.read_csv(\"./CSV_Files/2013_sales.csv\")\n",
    "sales_2014=pd.read_csv(\"./CSV_Files/2014_sales.csv\")\n",
    "sales_2015=pd.read_csv(\"./CSV_Files/2015_sales.csv\")\n",
    "sales_2016=pd.read_csv(\"./CSV_Files/2016_sales.csv\")\n",
    "sales_2017=pd.read_csv(\"./CSV_Files/2017_sales.csv\")"
   ]
  },
  {
   "cell_type": "code",
   "execution_count": 52,
   "metadata": {},
   "outputs": [],
   "source": [
    "sales_2012=sales_2012[[\"County\",\"Date\",\"Sale (Dollars)\",\"Volume Sold (Gallons)\"]]\n",
    "sales_2012[\"Sale (Dollars)\"]=sales_2012[\"Sale (Dollars)\"]\n",
    "sales_in_2012=list(sales_2012[\"Sale (Dollars)\"])\n",
    "\n",
    "sales_2013=sales_2013[[\"County\",\"Date\",\"Sale (Dollars)\",\"Volume Sold (Gallons)\"]]\n",
    "sales_in_2013=list(sales_2013[\"Sale (Dollars)\"])\n",
    "\n",
    "sales_2014=sales_2014[[\"County\",\"Date\",\"Sale (Dollars)\",\"Volume Sold (Gallons)\"]]\n",
    "sales_in_2014=list(sales_2014[\"Sale (Dollars)\"])\n",
    "\n",
    "sales_2015=sales_2015[[\"County\",\"Date\",\"Sale (Dollars)\",\"Volume Sold (Gallons)\"]]\n",
    "sales_in_2015=list(sales_2015[\"Sale (Dollars)\"])\n",
    "\n",
    "sales_2016=sales_2016[[\"County\",\"Date\",\"Sale (Dollars)\",\"Volume Sold (Gallons)\"]]\n",
    "sales_in_2016=list(sales_2016[\"Sale (Dollars)\"])\n",
    "\n",
    "sales_2017=sales_2017[[\"County\",\"Date\",\"Sale (Dollars)\",\"Volume Sold (Gallons)\"]]\n",
    "sales_in_2017=list(sales_2017[\"Sale (Dollars)\"])"
   ]
  },
  {
   "cell_type": "code",
   "execution_count": 53,
   "metadata": {},
   "outputs": [],
   "source": [
    "poverty_2012=pd.read_csv(\"./Poverty_Data/2012_Poverty_Data.csv\")\n",
    "poverty_points_2012=list(poverty_2012[\"Total Poverty Rate (%)\"])\n",
    "\n",
    "poverty_2013=pd.read_csv(\"./Poverty_Data/2013_Poverty_Data.csv\")\n",
    "poverty_points_2013=list(poverty_2012[\"Total Poverty Rate (%)\"])\n",
    "\n",
    "poverty_2014=pd.read_csv(\"./Poverty_Data/2014_Poverty_Data.csv\")\n",
    "poverty_points_2014=list(poverty_2014[\"Total Poverty Rate (%)\"])\n",
    "\n",
    "poverty_2015=pd.read_csv(\"./Poverty_Data/2015_Poverty_Data.csv\")\n",
    "poverty_points_2015=list(poverty_2015[\"Total Poverty Rate (%)\"])\n",
    "\n",
    "poverty_2016=pd.read_csv(\"./Poverty_Data/2016_Poverty_Data.csv\")\n",
    "poverty_points_2016=list(poverty_2016[\"Total Poverty Rate (%)\"])\n",
    "\n",
    "poverty_2017=pd.read_csv(\"./Poverty_Data/2017_Poverty_Data.csv\")\n",
    "poverty_points_2017=list(poverty_2012[\"Total Poverty Rate (%)\"])"
   ]
  },
  {
   "cell_type": "code",
   "execution_count": 54,
   "metadata": {},
   "outputs": [],
   "source": [
    "results_2012=stats.ttest_ind(poverty_points_2012,sales_in_2012,equal_var=False)\n",
    "results_2013=stats.ttest_ind(poverty_points_2013,sales_in_2013,equal_var=False)\n",
    "results_2014=stats.ttest_ind(poverty_points_2014,sales_in_2014,equal_var=False)\n",
    "results_2015=stats.ttest_ind(poverty_points_2015,sales_in_2015,equal_var=False)\n",
    "results_2016=stats.ttest_ind(poverty_points_2016,sales_in_2016,equal_var=False)\n",
    "results_2017=stats.ttest_ind(poverty_points_2017,sales_in_2017,equal_var=False)\n"
   ]
  },
  {
   "cell_type": "code",
   "execution_count": 51,
   "metadata": {},
   "outputs": [
    {
     "name": "stdout",
     "output_type": "stream",
     "text": [
      "Ttest_indResult(statistic=-3.9251810698736125, pvalue=0.0001611154615489955)\n",
      "Ttest_indResult(statistic=-3.9181938467462727, pvalue=0.00016520197198809382)\n",
      "Ttest_indResult(statistic=-3.8842869243627187, pvalue=0.00018647873361477747)\n",
      "Ttest_indResult(statistic=-3.8312332452374904, pvalue=0.00022509820961218052)\n",
      "Ttest_indResult(statistic=-3.7904379633204153, pvalue=0.00025479216150271734)\n",
      "Ttest_indResult(statistic=-3.7727210658961225, pvalue=0.00027649873645449295)\n"
     ]
    }
   ],
   "source": [
    "print(results_2012)\n",
    "print(results_2013)\n",
    "print(results_2014)\n",
    "print(results_2015)\n",
    "print(results_2016)\n",
    "print(results_2017)"
   ]
  },
  {
   "cell_type": "code",
   "execution_count": null,
   "metadata": {},
   "outputs": [],
   "source": []
  },
  {
   "cell_type": "code",
   "execution_count": null,
   "metadata": {},
   "outputs": [],
   "source": []
  }
 ],
 "metadata": {
  "kernelspec": {
   "display_name": "Python 3",
   "language": "python",
   "name": "python3"
  },
  "language_info": {
   "codemirror_mode": {
    "name": "ipython",
    "version": 3
   },
   "file_extension": ".py",
   "mimetype": "text/x-python",
   "name": "python",
   "nbconvert_exporter": "python",
   "pygments_lexer": "ipython3",
   "version": "3.6.7"
  }
 },
 "nbformat": 4,
 "nbformat_minor": 2
}
